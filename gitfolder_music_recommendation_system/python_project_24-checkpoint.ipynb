{
 "cells": [
  {
   "cell_type": "markdown",
   "id": "61481a5b",
   "metadata": {},
   "source": [
    "SPOTIFY DATA SET"
   ]
  },
  {
   "cell_type": "code",
   "execution_count": 2,
   "id": "3385df21",
   "metadata": {},
   "outputs": [],
   "source": [
    "import pandas as pd"
   ]
  },
  {
   "cell_type": "code",
   "execution_count": 3,
   "id": "5a706343",
   "metadata": {},
   "outputs": [],
   "source": [
    "df = pd.read_csv(r\"D:\\python project 2024-25\\spotify_millsongdata.csv\")"
   ]
  },
  {
   "cell_type": "code",
   "execution_count": 4,
   "id": "96d647f9",
   "metadata": {},
   "outputs": [
    {
     "data": {
      "text/html": [
       "<div>\n",
       "<style scoped>\n",
       "    .dataframe tbody tr th:only-of-type {\n",
       "        vertical-align: middle;\n",
       "    }\n",
       "\n",
       "    .dataframe tbody tr th {\n",
       "        vertical-align: top;\n",
       "    }\n",
       "\n",
       "    .dataframe thead th {\n",
       "        text-align: right;\n",
       "    }\n",
       "</style>\n",
       "<table border=\"1\" class=\"dataframe\">\n",
       "  <thead>\n",
       "    <tr style=\"text-align: right;\">\n",
       "      <th></th>\n",
       "      <th>artist</th>\n",
       "      <th>song</th>\n",
       "      <th>link</th>\n",
       "      <th>text</th>\n",
       "    </tr>\n",
       "  </thead>\n",
       "  <tbody>\n",
       "    <tr>\n",
       "      <th>0</th>\n",
       "      <td>ABBA</td>\n",
       "      <td>Ahe's My Kind Of Girl</td>\n",
       "      <td>/a/abba/ahes+my+kind+of+girl_20598417.html</td>\n",
       "      <td>Look at her face, it's a wonderful face  \\r\\nA...</td>\n",
       "    </tr>\n",
       "    <tr>\n",
       "      <th>1</th>\n",
       "      <td>ABBA</td>\n",
       "      <td>Andante, Andante</td>\n",
       "      <td>/a/abba/andante+andante_20002708.html</td>\n",
       "      <td>Take it easy with me, please  \\r\\nTouch me gen...</td>\n",
       "    </tr>\n",
       "    <tr>\n",
       "      <th>2</th>\n",
       "      <td>ABBA</td>\n",
       "      <td>As Good As New</td>\n",
       "      <td>/a/abba/as+good+as+new_20003033.html</td>\n",
       "      <td>I'll never know why I had to go  \\r\\nWhy I had...</td>\n",
       "    </tr>\n",
       "    <tr>\n",
       "      <th>3</th>\n",
       "      <td>ABBA</td>\n",
       "      <td>Bang</td>\n",
       "      <td>/a/abba/bang_20598415.html</td>\n",
       "      <td>Making somebody happy is a question of give an...</td>\n",
       "    </tr>\n",
       "    <tr>\n",
       "      <th>4</th>\n",
       "      <td>ABBA</td>\n",
       "      <td>Bang-A-Boomerang</td>\n",
       "      <td>/a/abba/bang+a+boomerang_20002668.html</td>\n",
       "      <td>Making somebody happy is a question of give an...</td>\n",
       "    </tr>\n",
       "  </tbody>\n",
       "</table>\n",
       "</div>"
      ],
      "text/plain": [
       "  artist                   song                                        link  \\\n",
       "0   ABBA  Ahe's My Kind Of Girl  /a/abba/ahes+my+kind+of+girl_20598417.html   \n",
       "1   ABBA       Andante, Andante       /a/abba/andante+andante_20002708.html   \n",
       "2   ABBA         As Good As New        /a/abba/as+good+as+new_20003033.html   \n",
       "3   ABBA                   Bang                  /a/abba/bang_20598415.html   \n",
       "4   ABBA       Bang-A-Boomerang      /a/abba/bang+a+boomerang_20002668.html   \n",
       "\n",
       "                                                text  \n",
       "0  Look at her face, it's a wonderful face  \\r\\nA...  \n",
       "1  Take it easy with me, please  \\r\\nTouch me gen...  \n",
       "2  I'll never know why I had to go  \\r\\nWhy I had...  \n",
       "3  Making somebody happy is a question of give an...  \n",
       "4  Making somebody happy is a question of give an...  "
      ]
     },
     "execution_count": 4,
     "metadata": {},
     "output_type": "execute_result"
    }
   ],
   "source": [
    "df.head(5)"
   ]
  },
  {
   "cell_type": "code",
   "execution_count": 5,
   "id": "bfbb0696",
   "metadata": {},
   "outputs": [
    {
     "data": {
      "text/html": [
       "<div>\n",
       "<style scoped>\n",
       "    .dataframe tbody tr th:only-of-type {\n",
       "        vertical-align: middle;\n",
       "    }\n",
       "\n",
       "    .dataframe tbody tr th {\n",
       "        vertical-align: top;\n",
       "    }\n",
       "\n",
       "    .dataframe thead th {\n",
       "        text-align: right;\n",
       "    }\n",
       "</style>\n",
       "<table border=\"1\" class=\"dataframe\">\n",
       "  <thead>\n",
       "    <tr style=\"text-align: right;\">\n",
       "      <th></th>\n",
       "      <th>artist</th>\n",
       "      <th>song</th>\n",
       "      <th>link</th>\n",
       "      <th>text</th>\n",
       "    </tr>\n",
       "  </thead>\n",
       "  <tbody>\n",
       "    <tr>\n",
       "      <th>57645</th>\n",
       "      <td>Ziggy Marley</td>\n",
       "      <td>Good Old Days</td>\n",
       "      <td>/z/ziggy+marley/good+old+days_10198588.html</td>\n",
       "      <td>Irie days come on play  \\r\\nLet the angels fly...</td>\n",
       "    </tr>\n",
       "    <tr>\n",
       "      <th>57646</th>\n",
       "      <td>Ziggy Marley</td>\n",
       "      <td>Hand To Mouth</td>\n",
       "      <td>/z/ziggy+marley/hand+to+mouth_20531167.html</td>\n",
       "      <td>Power to the workers  \\r\\nMore power  \\r\\nPowe...</td>\n",
       "    </tr>\n",
       "    <tr>\n",
       "      <th>57647</th>\n",
       "      <td>Zwan</td>\n",
       "      <td>Come With Me</td>\n",
       "      <td>/z/zwan/come+with+me_20148981.html</td>\n",
       "      <td>all you need  \\r\\nis something i'll believe  \\...</td>\n",
       "    </tr>\n",
       "    <tr>\n",
       "      <th>57648</th>\n",
       "      <td>Zwan</td>\n",
       "      <td>Desire</td>\n",
       "      <td>/z/zwan/desire_20148986.html</td>\n",
       "      <td>northern star  \\r\\nam i frightened  \\r\\nwhere ...</td>\n",
       "    </tr>\n",
       "    <tr>\n",
       "      <th>57649</th>\n",
       "      <td>Zwan</td>\n",
       "      <td>Heartsong</td>\n",
       "      <td>/z/zwan/heartsong_20148991.html</td>\n",
       "      <td>come in  \\r\\nmake yourself at home  \\r\\ni'm a ...</td>\n",
       "    </tr>\n",
       "  </tbody>\n",
       "</table>\n",
       "</div>"
      ],
      "text/plain": [
       "             artist           song  \\\n",
       "57645  Ziggy Marley  Good Old Days   \n",
       "57646  Ziggy Marley  Hand To Mouth   \n",
       "57647          Zwan   Come With Me   \n",
       "57648          Zwan         Desire   \n",
       "57649          Zwan      Heartsong   \n",
       "\n",
       "                                              link  \\\n",
       "57645  /z/ziggy+marley/good+old+days_10198588.html   \n",
       "57646  /z/ziggy+marley/hand+to+mouth_20531167.html   \n",
       "57647           /z/zwan/come+with+me_20148981.html   \n",
       "57648                 /z/zwan/desire_20148986.html   \n",
       "57649              /z/zwan/heartsong_20148991.html   \n",
       "\n",
       "                                                    text  \n",
       "57645  Irie days come on play  \\r\\nLet the angels fly...  \n",
       "57646  Power to the workers  \\r\\nMore power  \\r\\nPowe...  \n",
       "57647  all you need  \\r\\nis something i'll believe  \\...  \n",
       "57648  northern star  \\r\\nam i frightened  \\r\\nwhere ...  \n",
       "57649  come in  \\r\\nmake yourself at home  \\r\\ni'm a ...  "
      ]
     },
     "execution_count": 5,
     "metadata": {},
     "output_type": "execute_result"
    }
   ],
   "source": [
    "df.tail(5)"
   ]
  },
  {
   "cell_type": "code",
   "execution_count": 6,
   "id": "ada6849d",
   "metadata": {},
   "outputs": [
    {
     "data": {
      "text/plain": [
       "(57650, 4)"
      ]
     },
     "execution_count": 6,
     "metadata": {},
     "output_type": "execute_result"
    }
   ],
   "source": [
    "df.shape"
   ]
  },
  {
   "cell_type": "markdown",
   "id": "37b3a17e",
   "metadata": {},
   "source": [
    "NO NULL VALUES"
   ]
  },
  {
   "cell_type": "code",
   "execution_count": 7,
   "id": "3a6c93d3",
   "metadata": {},
   "outputs": [
    {
     "data": {
      "text/plain": [
       "artist    0\n",
       "song      0\n",
       "link      0\n",
       "text      0\n",
       "dtype: int64"
      ]
     },
     "execution_count": 7,
     "metadata": {},
     "output_type": "execute_result"
    }
   ],
   "source": [
    "df.isnull().sum()"
   ]
  },
  {
   "cell_type": "markdown",
   "id": "6041219c",
   "metadata": {},
   "source": [
    "WE DON'T REQUIRE LINK COLOUMN"
   ]
  },
  {
   "cell_type": "code",
   "execution_count": 84,
   "id": "fdbc99d6",
   "metadata": {},
   "outputs": [],
   "source": [
    "#df = df.sample(10000).drop('link',axis=1).reset_index(drop=True)\n",
    "if 'link' in df.columns:\n",
    "    df = df.drop('link', axis=1)\n",
    "\n",
    "df = df.sample(10000).reset_index(drop=True)"
   ]
  },
  {
   "cell_type": "code",
   "execution_count": 85,
   "id": "7b02c0c9",
   "metadata": {},
   "outputs": [
    {
     "data": {
      "text/html": [
       "<div>\n",
       "<style scoped>\n",
       "    .dataframe tbody tr th:only-of-type {\n",
       "        vertical-align: middle;\n",
       "    }\n",
       "\n",
       "    .dataframe tbody tr th {\n",
       "        vertical-align: top;\n",
       "    }\n",
       "\n",
       "    .dataframe thead th {\n",
       "        text-align: right;\n",
       "    }\n",
       "</style>\n",
       "<table border=\"1\" class=\"dataframe\">\n",
       "  <thead>\n",
       "    <tr style=\"text-align: right;\">\n",
       "      <th></th>\n",
       "      <th>artist</th>\n",
       "      <th>song</th>\n",
       "      <th>text</th>\n",
       "    </tr>\n",
       "  </thead>\n",
       "  <tbody>\n",
       "    <tr>\n",
       "      <th>0</th>\n",
       "      <td>Perry Como</td>\n",
       "      <td>Deep In Your Heart</td>\n",
       "      <td>it takes a certain kind of somethin  special  ...</td>\n",
       "    </tr>\n",
       "    <tr>\n",
       "      <th>1</th>\n",
       "      <td>Tom T. Hall</td>\n",
       "      <td>Kentucky In The Morning</td>\n",
       "      <td>i will sing of a place that you may have seen ...</td>\n",
       "    </tr>\n",
       "    <tr>\n",
       "      <th>2</th>\n",
       "      <td>Ella Fitzgerald</td>\n",
       "      <td>Can Anyone Explain? (No, No, No!)</td>\n",
       "      <td>can anyone explain the thrill of a kiss  \\r no...</td>\n",
       "    </tr>\n",
       "    <tr>\n",
       "      <th>3</th>\n",
       "      <td>Donna Summer</td>\n",
       "      <td>If There Is Music There</td>\n",
       "      <td>if there is music there  \\r i ll have to go  \\...</td>\n",
       "    </tr>\n",
       "    <tr>\n",
       "      <th>4</th>\n",
       "      <td>Josh Groban</td>\n",
       "      <td>Over The Rainbow</td>\n",
       "      <td>somewhere over the rainbow  \\r way up high  \\r...</td>\n",
       "    </tr>\n",
       "  </tbody>\n",
       "</table>\n",
       "</div>"
      ],
      "text/plain": [
       "            artist                               song  \\\n",
       "0       Perry Como                 Deep In Your Heart   \n",
       "1      Tom T. Hall            Kentucky In The Morning   \n",
       "2  Ella Fitzgerald  Can Anyone Explain? (No, No, No!)   \n",
       "3     Donna Summer            If There Is Music There   \n",
       "4      Josh Groban                   Over The Rainbow   \n",
       "\n",
       "                                                text  \n",
       "0  it takes a certain kind of somethin  special  ...  \n",
       "1  i will sing of a place that you may have seen ...  \n",
       "2  can anyone explain the thrill of a kiss  \\r no...  \n",
       "3  if there is music there  \\r i ll have to go  \\...  \n",
       "4  somewhere over the rainbow  \\r way up high  \\r...  "
      ]
     },
     "execution_count": 85,
     "metadata": {},
     "output_type": "execute_result"
    }
   ],
   "source": [
    "df.head(5)"
   ]
  },
  {
   "cell_type": "code",
   "execution_count": 86,
   "id": "97964a8c",
   "metadata": {},
   "outputs": [
    {
     "data": {
      "text/plain": [
       "'it takes a certain kind of somethin  special  \\r deep in your heart  that s where it starts  deep in your heart  \\r it takes a certain kind of somethin  special  \\r deep in your heart  for love to come your way   \\r   \\r it takes a lot of true consideration  \\r deep in your heart  that s where it starts  deep in your heart  \\r it takes a lot of true consideration  \\r deep in your heart  for love to come your way   \\r   \\r it takes a faith and trusting understanding  \\r deep in your heart  that s where it starts  deep in your heart  \\r it takes a faith and trusting understanding  \\r deep in your heart  for love to come your way   \\r   \\r       for love to come your way \\r \\r '"
      ]
     },
     "execution_count": 86,
     "metadata": {},
     "output_type": "execute_result"
    }
   ],
   "source": [
    "df['text'][0]"
   ]
  },
  {
   "cell_type": "code",
   "execution_count": null,
   "id": "f76ca900",
   "metadata": {},
   "outputs": [],
   "source": []
  },
  {
   "cell_type": "code",
   "execution_count": 87,
   "id": "20fdd86e",
   "metadata": {},
   "outputs": [
    {
     "data": {
      "text/plain": [
       "(10000, 3)"
      ]
     },
     "execution_count": 87,
     "metadata": {},
     "output_type": "execute_result"
    }
   ],
   "source": [
    "df.shape\n"
   ]
  },
  {
   "cell_type": "markdown",
   "id": "2bb31741",
   "metadata": {},
   "source": [
    "TEXT CLEANING / TEXT PRE PROCESSING"
   ]
  },
  {
   "cell_type": "code",
   "execution_count": 88,
   "id": "c92ec3b8",
   "metadata": {},
   "outputs": [
    {
     "data": {
      "text/plain": [
       "0       it takes a certain kind of somethin  special  ...\n",
       "1       i will sing of a place that you may have seen ...\n",
       "2       can anyone explain the thrill of a kiss  \\r no...\n",
       "3       if there is music there  \\r i ll have to go  \\...\n",
       "4       somewhere over the rainbow  \\r way up high  \\r...\n",
       "                              ...                        \n",
       "9995    the way you looked at me  \\r tells me you re s...\n",
       "9996    another night sleepless  \\r i don t want to fe...\n",
       "9997    on monday morning  ocean rain was falling  \\r ...\n",
       "9998    do you remember anyone here   \\r no you don t ...\n",
       "9999    well  i had me a pigeon  \\r by the name of fre...\n",
       "Name: text, Length: 10000, dtype: object"
      ]
     },
     "execution_count": 88,
     "metadata": {},
     "output_type": "execute_result"
    }
   ],
   "source": [
    "df['text'].str.lower().replace(r'[^\\w\\s]', ' ', regex=True).replace(r'\\n', ' ', regex=True)"
   ]
  },
  {
   "cell_type": "code",
   "execution_count": 89,
   "id": "9b7f157c",
   "metadata": {},
   "outputs": [],
   "source": [
    "df['text'] = df['text'].str.lower().replace(r'[^\\w\\s]', ' ', regex=True).replace(r'\\n', ' ', regex=True)"
   ]
  },
  {
   "cell_type": "code",
   "execution_count": 90,
   "id": "4ad566a6",
   "metadata": {},
   "outputs": [
    {
     "data": {
      "text/html": [
       "<div>\n",
       "<style scoped>\n",
       "    .dataframe tbody tr th:only-of-type {\n",
       "        vertical-align: middle;\n",
       "    }\n",
       "\n",
       "    .dataframe tbody tr th {\n",
       "        vertical-align: top;\n",
       "    }\n",
       "\n",
       "    .dataframe thead th {\n",
       "        text-align: right;\n",
       "    }\n",
       "</style>\n",
       "<table border=\"1\" class=\"dataframe\">\n",
       "  <thead>\n",
       "    <tr style=\"text-align: right;\">\n",
       "      <th></th>\n",
       "      <th>artist</th>\n",
       "      <th>song</th>\n",
       "      <th>text</th>\n",
       "    </tr>\n",
       "  </thead>\n",
       "  <tbody>\n",
       "    <tr>\n",
       "      <th>9995</th>\n",
       "      <td>Jennifer Lopez</td>\n",
       "      <td>We Gotta Talk</td>\n",
       "      <td>the way you looked at me  \\r tells me you re s...</td>\n",
       "    </tr>\n",
       "    <tr>\n",
       "      <th>9996</th>\n",
       "      <td>Meat Loaf</td>\n",
       "      <td>Cry Over Me</td>\n",
       "      <td>another night sleepless  \\r i don t want to fe...</td>\n",
       "    </tr>\n",
       "    <tr>\n",
       "      <th>9997</th>\n",
       "      <td>Modern Talking</td>\n",
       "      <td>America</td>\n",
       "      <td>on monday morning  ocean rain was falling  \\r ...</td>\n",
       "    </tr>\n",
       "    <tr>\n",
       "      <th>9998</th>\n",
       "      <td>Talking Heads</td>\n",
       "      <td>Memories Can't Wait</td>\n",
       "      <td>do you remember anyone here   \\r no you don t ...</td>\n",
       "    </tr>\n",
       "    <tr>\n",
       "      <th>9999</th>\n",
       "      <td>America</td>\n",
       "      <td>Pigeon Song</td>\n",
       "      <td>well  i had me a pigeon  \\r by the name of fre...</td>\n",
       "    </tr>\n",
       "  </tbody>\n",
       "</table>\n",
       "</div>"
      ],
      "text/plain": [
       "              artist                 song  \\\n",
       "9995  Jennifer Lopez        We Gotta Talk   \n",
       "9996       Meat Loaf          Cry Over Me   \n",
       "9997  Modern Talking              America   \n",
       "9998   Talking Heads  Memories Can't Wait   \n",
       "9999         America          Pigeon Song   \n",
       "\n",
       "                                                   text  \n",
       "9995  the way you looked at me  \\r tells me you re s...  \n",
       "9996  another night sleepless  \\r i don t want to fe...  \n",
       "9997  on monday morning  ocean rain was falling  \\r ...  \n",
       "9998  do you remember anyone here   \\r no you don t ...  \n",
       "9999  well  i had me a pigeon  \\r by the name of fre...  "
      ]
     },
     "execution_count": 90,
     "metadata": {},
     "output_type": "execute_result"
    }
   ],
   "source": [
    "df.tail(5)"
   ]
  },
  {
   "cell_type": "markdown",
   "id": "6dc0164c",
   "metadata": {},
   "source": [
    "TOKENIZATION "
   ]
  },
  {
   "cell_type": "code",
   "execution_count": 26,
   "id": "409cbfff",
   "metadata": {},
   "outputs": [
    {
     "name": "stderr",
     "output_type": "stream",
     "text": [
      "[nltk_data] Downloading package punkt to C:\\Users\\Javed\n",
      "[nltk_data]     miya\\AppData\\Roaming\\nltk_data...\n",
      "[nltk_data]   Unzipping tokenizers\\punkt.zip.\n"
     ]
    },
    {
     "data": {
      "text/plain": [
       "True"
      ]
     },
     "execution_count": 26,
     "metadata": {},
     "output_type": "execute_result"
    }
   ],
   "source": [
    "import nltk\n",
    "from nltk.stem.porter import PorterStemmer\n",
    "nltk.download('punkt')"
   ]
  },
  {
   "cell_type": "code",
   "execution_count": 91,
   "id": "dbaa5100",
   "metadata": {},
   "outputs": [],
   "source": [
    "st = PorterStemmer()"
   ]
  },
  {
   "cell_type": "code",
   "execution_count": 92,
   "id": "ec70e4ce",
   "metadata": {},
   "outputs": [],
   "source": [
    "def token(text):\n",
    "    tokens = nltk.word_tokenize(text)\n",
    "    tokens_list = [st.stem(w) for w in tokens]\n",
    "    return \" \".join(tokens_list)"
   ]
  },
  {
   "cell_type": "code",
   "execution_count": 93,
   "id": "23eac77c",
   "metadata": {},
   "outputs": [
    {
     "name": "stdout",
     "output_type": "stream",
     "text": [
      "you are beauti\n"
     ]
    }
   ],
   "source": [
    "print(token('you are beautiful'))"
   ]
  },
  {
   "cell_type": "code",
   "execution_count": 94,
   "id": "7e15905d",
   "metadata": {},
   "outputs": [
    {
     "data": {
      "text/plain": [
       "0       it take a certain kind of somethin special dee...\n",
       "1       i will sing of a place that you may have seen ...\n",
       "2       can anyon explain the thrill of a kiss no no n...\n",
       "3       if there is music there i ll have to go never ...\n",
       "4       somewher over the rainbow way up high there s ...\n",
       "                              ...                        \n",
       "9995    the way you look at me tell me you re sorri yo...\n",
       "9996    anoth night sleepless i don t want to feel thi...\n",
       "9997    on monday morn ocean rain wa fall and tuesday ...\n",
       "9998    do you rememb anyon here no you don t rememb a...\n",
       "9999    well i had me a pigeon by the name of fred but...\n",
       "Name: text, Length: 10000, dtype: object"
      ]
     },
     "execution_count": 94,
     "metadata": {},
     "output_type": "execute_result"
    }
   ],
   "source": [
    "df['text'].apply(lambda x: token(x))"
   ]
  },
  {
   "cell_type": "markdown",
   "id": "85de1834",
   "metadata": {},
   "source": [
    "DISTANCE CALCULATER"
   ]
  },
  {
   "cell_type": "code",
   "execution_count": 95,
   "id": "2dfdae1f",
   "metadata": {},
   "outputs": [],
   "source": [
    "from sklearn.feature_extraction.text import TfidfVectorizer\n",
    "from sklearn.metrics.pairwise import cosine_similarity"
   ]
  },
  {
   "cell_type": "code",
   "execution_count": 96,
   "id": "c555acc7",
   "metadata": {},
   "outputs": [],
   "source": [
    "tfid = TfidfVectorizer(analyzer='word',stop_words = 'english')"
   ]
  },
  {
   "cell_type": "code",
   "execution_count": 97,
   "id": "2576e4b0",
   "metadata": {},
   "outputs": [],
   "source": [
    "matrix = tfid.fit_transform(df['text'])"
   ]
  },
  {
   "cell_type": "code",
   "execution_count": 98,
   "id": "eca00d98",
   "metadata": {},
   "outputs": [
    {
     "data": {
      "text/plain": [
       "<10000x33782 sparse matrix of type '<class 'numpy.float64'>'\n",
       "\twith 537848 stored elements in Compressed Sparse Row format>"
      ]
     },
     "execution_count": 98,
     "metadata": {},
     "output_type": "execute_result"
    }
   ],
   "source": [
    "matrix"
   ]
  },
  {
   "cell_type": "code",
   "execution_count": 99,
   "id": "cb30c30c",
   "metadata": {},
   "outputs": [
    {
     "data": {
      "text/plain": [
       "array([[1.        , 0.01072792, 0.05942137, ..., 0.01796696, 0.        ,\n",
       "        0.        ],\n",
       "       [0.01072792, 1.        , 0.00607492, ..., 0.06662503, 0.00766188,\n",
       "        0.01623346],\n",
       "       [0.05942137, 0.00607492, 1.        , ..., 0.02960894, 0.04509438,\n",
       "        0.03940349],\n",
       "       ...,\n",
       "       [0.01796696, 0.06662503, 0.02960894, ..., 1.        , 0.07870531,\n",
       "        0.00767752],\n",
       "       [0.        , 0.00766188, 0.04509438, ..., 0.07870531, 1.        ,\n",
       "        0.01893837],\n",
       "       [0.        , 0.01623346, 0.03940349, ..., 0.00767752, 0.01893837,\n",
       "        1.        ]])"
      ]
     },
     "execution_count": 99,
     "metadata": {},
     "output_type": "execute_result"
    }
   ],
   "source": [
    "cosine_similarity(matrix)"
   ]
  },
  {
   "cell_type": "code",
   "execution_count": 80,
   "id": "30d5fafa",
   "metadata": {},
   "outputs": [],
   "source": [
    "similar = cosine_similarity(matrix)"
   ]
  },
  {
   "cell_type": "code",
   "execution_count": 81,
   "id": "dc77dad2",
   "metadata": {},
   "outputs": [
    {
     "data": {
      "text/plain": [
       "array([1.        , 0.0153565 , 0.00682395, ..., 0.00362857, 0.04664266,\n",
       "       0.01768811])"
      ]
     },
     "execution_count": 81,
     "metadata": {},
     "output_type": "execute_result"
    }
   ],
   "source": [
    "similar[0]"
   ]
  },
  {
   "cell_type": "code",
   "execution_count": 49,
   "id": "1025ff5c",
   "metadata": {},
   "outputs": [
    {
     "data": {
      "text/plain": [
       "5942"
      ]
     },
     "execution_count": 49,
     "metadata": {},
     "output_type": "execute_result"
    }
   ],
   "source": [
    "df[df[\"song\"] == \"Shadows\" ].index[0]"
   ]
  },
  {
   "cell_type": "markdown",
   "id": "08a21798",
   "metadata": {},
   "source": [
    "RECOMMENDER FUNCTION"
   ]
  },
  {
   "cell_type": "code",
   "execution_count": 101,
   "id": "69ac6b1d",
   "metadata": {},
   "outputs": [],
   "source": [
    "def recommend(song_name) :\n",
    "    idx = df[df[\"song\"] == song_name ].index[0]\n",
    "    distance = sorted(list(enumerate(similar[idx])), reverse = True, key = lambda x:x[1])\n",
    "    song = []\n",
    "    for i in distance[1:5] :\n",
    "        song.append(df.iloc[i[0]].song)\n",
    "    return song"
   ]
  },
  {
   "cell_type": "code",
   "execution_count": 102,
   "id": "59bd057d",
   "metadata": {},
   "outputs": [
    {
     "data": {
      "text/plain": [
       "['Half Of Him', 'Ripple', \"Love Ain't Like That\", 'Moment Of Forever']"
      ]
     },
     "execution_count": 102,
     "metadata": {},
     "output_type": "execute_result"
    }
   ],
   "source": [
    "recommend(\"America\")"
   ]
  },
  {
   "cell_type": "code",
   "execution_count": 105,
   "id": "29df126f",
   "metadata": {},
   "outputs": [],
   "source": [
    "import pickle"
   ]
  },
  {
   "cell_type": "code",
   "execution_count": 107,
   "id": "78b7dc62",
   "metadata": {},
   "outputs": [],
   "source": [
    "pickle.dump(similar,open(\"similarity\",\"wb\"))"
   ]
  },
  {
   "cell_type": "code",
   "execution_count": 108,
   "id": "c73c526c",
   "metadata": {},
   "outputs": [],
   "source": [
    "pickle.dump(df,open(\"df\",\"wb\"))"
   ]
  },
  {
   "cell_type": "code",
   "execution_count": null,
   "id": "5e79e484",
   "metadata": {},
   "outputs": [],
   "source": []
  }
 ],
 "metadata": {
  "kernelspec": {
   "display_name": "Python 3 (ipykernel)",
   "language": "python",
   "name": "python3"
  },
  "language_info": {
   "codemirror_mode": {
    "name": "ipython",
    "version": 3
   },
   "file_extension": ".py",
   "mimetype": "text/x-python",
   "name": "python",
   "nbconvert_exporter": "python",
   "pygments_lexer": "ipython3",
   "version": "3.11.5"
  }
 },
 "nbformat": 4,
 "nbformat_minor": 5
}
